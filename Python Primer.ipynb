{
 "cells": [
  {
   "cell_type": "markdown",
   "id": "93ec2321",
   "metadata": {},
   "source": [
    "# A Python Primer"
   ]
  },
  {
   "cell_type": "markdown",
   "id": "d8dc06a4",
   "metadata": {},
   "source": [
    "## Variables"
   ]
  },
  {
   "cell_type": "code",
   "execution_count": null,
   "id": "ea23fb74",
   "metadata": {},
   "outputs": [],
   "source": [
    "# Defining variables\n",
    "a = 10\n",
    "b = 'string_b'\n",
    "c = \"string_c\"\n",
    "d = 0.999"
   ]
  },
  {
   "cell_type": "code",
   "execution_count": null,
   "id": "6365ab3f",
   "metadata": {},
   "outputs": [],
   "source": [
    "# Use print to show the values\n",
    "print(a, b, c, d)"
   ]
  },
  {
   "cell_type": "code",
   "execution_count": null,
   "id": "7f1d62da",
   "metadata": {},
   "outputs": [],
   "source": [
    "# Putting multiple variables together in a tuple\n",
    "t = (a, b)\n",
    "print(type(t))\n",
    "print(t)"
   ]
  },
  {
   "cell_type": "code",
   "execution_count": null,
   "id": "7b72e155",
   "metadata": {},
   "outputs": [],
   "source": [
    "# Swapping two variables\n",
    "a, b = 10, 20\n",
    "a, b = b, a\n",
    "\n",
    "print(a, b)"
   ]
  },
  {
   "cell_type": "code",
   "execution_count": null,
   "id": "2b492a7e",
   "metadata": {},
   "outputs": [],
   "source": [
    "# String formatting\n",
    "x, y, z = 12, 34, -5.6789\n",
    "\n",
    "print(f\"{x=}, {y=}\")\n",
    "print(f\"{z=:.2f}\")"
   ]
  },
  {
   "cell_type": "markdown",
   "id": "a196d724",
   "metadata": {},
   "source": [
    "## Conditional Logic"
   ]
  },
  {
   "cell_type": "code",
   "execution_count": null,
   "id": "86a53265",
   "metadata": {},
   "outputs": [],
   "source": [
    "a = 10\n",
    "\n",
    "if a >= 5:\n",
    "    print('the statement is true')\n",
    "else:\n",
    "    print('the statement is false')"
   ]
  },
  {
   "cell_type": "code",
   "execution_count": null,
   "id": "b037b26f",
   "metadata": {},
   "outputs": [],
   "source": [
    "a = 3\n",
    "\n",
    "if a >= 5:\n",
    "    print('the first statement is true')\n",
    "elif a >= 0:\n",
    "    print('the second statement is true')\n",
    "else:\n",
    "    print('both statements are false')"
   ]
  },
  {
   "cell_type": "markdown",
   "id": "85bbcf1c",
   "metadata": {},
   "source": [
    "## Loop"
   ]
  },
  {
   "cell_type": "code",
   "execution_count": null,
   "id": "dc312ad3",
   "metadata": {},
   "outputs": [],
   "source": [
    "# for loop\n",
    "# Use range(10) to go from 0 to 9\n",
    "for i in range(10):\n",
    "    print(i)"
   ]
  },
  {
   "cell_type": "code",
   "execution_count": null,
   "id": "9ac2c592",
   "metadata": {},
   "outputs": [],
   "source": [
    "# Use range(10, 100, 5) to start from 10 and move with increments of 5\n",
    "for i in range(10, 100, 5):\n",
    "    print(i)"
   ]
  },
  {
   "cell_type": "code",
   "execution_count": null,
   "id": "5f121077",
   "metadata": {},
   "outputs": [],
   "source": [
    "# Breaking out from the loop with break\n",
    "for i in range(10):\n",
    "    print(i)\n",
    "    if i > 5:\n",
    "        break"
   ]
  },
  {
   "cell_type": "code",
   "execution_count": null,
   "id": "5f526186",
   "metadata": {},
   "outputs": [],
   "source": [
    "# Exit one iteration of the loop, but keep going\n",
    "for i in range(10):\n",
    "    if i <= 5:\n",
    "        continue\n",
    "    print(i)"
   ]
  },
  {
   "cell_type": "code",
   "execution_count": null,
   "id": "3fd6a8ee",
   "metadata": {},
   "outputs": [],
   "source": [
    "# while loop: run while the condition is True\n",
    "cnt = 0 \n",
    "\n",
    "while cnt <= 5:\n",
    "    print(cnt)\n",
    "    cnt = cnt + 1"
   ]
  },
  {
   "cell_type": "markdown",
   "id": "0e986182",
   "metadata": {},
   "source": [
    "## List"
   ]
  },
  {
   "cell_type": "code",
   "execution_count": null,
   "id": "c049fb47",
   "metadata": {},
   "outputs": [],
   "source": [
    "# create a list with numbers\n",
    "numbers = [1, 2, 3, 5, 7, 11, 13]\n",
    "\n",
    "# Getting the first element from the list\n",
    "el = numbers[1]\n",
    "print(el)"
   ]
  },
  {
   "cell_type": "code",
   "execution_count": null,
   "id": "db577af0",
   "metadata": {},
   "outputs": [],
   "source": [
    "# Changing one element of the list\n",
    "numbers[1] = -2\n",
    "print(numbers)"
   ]
  },
  {
   "cell_type": "code",
   "execution_count": null,
   "id": "ca92b66d",
   "metadata": {},
   "outputs": [],
   "source": [
    "# Use -1 to access the last element, -2 to access the one before last and so on\n",
    "print(numbers[-1], numbers[-2])"
   ]
  },
  {
   "cell_type": "code",
   "execution_count": null,
   "id": "afa5492b",
   "metadata": {},
   "outputs": [],
   "source": [
    "# Add another element to the list by using append\n",
    "numbers.append(17)\n",
    "print(numbers)"
   ]
  },
  {
   "cell_type": "code",
   "execution_count": null,
   "id": "516d0e44",
   "metadata": {},
   "outputs": [],
   "source": [
    "# Iterating over a list using for look\n",
    "for n in numbers:\n",
    "    print(n)"
   ]
  },
  {
   "cell_type": "code",
   "execution_count": null,
   "id": "d3e8bdea",
   "metadata": {},
   "outputs": [],
   "source": [
    "# Iterating over a list using range\n",
    "for i in range(len(numbers)):\n",
    "    n = numbers[i]\n",
    "    print(f\"numbers[{i}] = {n}\")"
   ]
  },
  {
   "cell_type": "code",
   "execution_count": null,
   "id": "9e5069d0",
   "metadata": {},
   "outputs": [],
   "source": [
    "# Combining both with enumarate\n",
    "for i, n in enumerate(numbers):\n",
    "    print(f\"numbers[{i}] = {n}\")"
   ]
  },
  {
   "cell_type": "code",
   "execution_count": null,
   "id": "24a0ac18",
   "metadata": {},
   "outputs": [],
   "source": [
    "# Combininig two lists into one\n",
    "list1 = [1, 2, 3, 5]\n",
    "list2 = [7, 11, 13, 17]\n",
    "list1 = list1 + list2\n",
    "\n",
    "print(list1)"
   ]
  },
  {
   "cell_type": "code",
   "execution_count": null,
   "id": "9ef04bf2",
   "metadata": {},
   "outputs": [],
   "source": [
    "# Creating a list of lists\n",
    "list1 = [1, 2, 3, 5]\n",
    "list2 = [7, 11, 13, 17]\n",
    "list3 = [19, 23, 27, 29]\n",
    "\n",
    "lists = [list1, list2, list3]\n",
    "\n",
    "print(lists)"
   ]
  },
  {
   "cell_type": "code",
   "execution_count": null,
   "id": "4e746ad4",
   "metadata": {},
   "outputs": [],
   "source": [
    "# Print each sub-list\n",
    "for l in lists:\n",
    "    print(l)"
   ]
  },
  {
   "cell_type": "markdown",
   "id": "7f16117e",
   "metadata": {},
   "source": [
    "## Slicing"
   ]
  },
  {
   "cell_type": "code",
   "execution_count": null,
   "id": "b3b1103f",
   "metadata": {
    "scrolled": true
   },
   "outputs": [],
   "source": [
    "numbers = [1, 2, 3, 5, 7]\n",
    "\n",
    "# Access elements 1 and 2\n",
    "smallnum = numbers[1:3]\n",
    "print(smallnum)\n",
    "\n",
    "# Access first 3 elements\n",
    "first3 = numbers[:3]\n",
    "print(first3)\n",
    "\n",
    "# Access last 2 elements\n",
    "last2 = numbers[-2:]\n",
    "print(last2)"
   ]
  },
  {
   "cell_type": "markdown",
   "id": "35a0c662",
   "metadata": {},
   "source": [
    "## List comprehension"
   ]
  },
  {
   "cell_type": "code",
   "execution_count": null,
   "id": "b21c94da",
   "metadata": {},
   "outputs": [],
   "source": [
    "# Create a list with numbers\n",
    "numbers = [1, 2, 3, 5, 7]\n",
    "\n",
    "# Create another list where all the elements of the original list are squared.\n",
    "squared = [n * n for n in numbers]\n",
    "print(squared)"
   ]
  },
  {
   "cell_type": "code",
   "execution_count": null,
   "id": "f2b4d4fa",
   "metadata": {},
   "outputs": [],
   "source": [
    "# It’s also possible to add an if condition inside to process only the elements that meet the condition\n",
    "squared = [n * n for n in numbers if n > 3]\n",
    "print(squared)"
   ]
  },
  {
   "cell_type": "markdown",
   "id": "c3ad2f02",
   "metadata": {},
   "source": [
    "## Tuple"
   ]
  },
  {
   "cell_type": "code",
   "execution_count": null,
   "id": "07141727",
   "metadata": {},
   "outputs": [],
   "source": [
    "# Tuples are like lists, but they are immutable\n",
    "numbers = (1, 2, 3, 5, 7, 11, 13)\n",
    "\n",
    "# Thus, it's not possible to modify them\n",
    "numbers[2] = -2"
   ]
  },
  {
   "cell_type": "code",
   "execution_count": null,
   "id": "5585d3e3",
   "metadata": {},
   "outputs": [],
   "source": [
    "# But a new tuple can be created by combining the old tuple plus a new element\n",
    "numbers = numbers + (15, 17)\n",
    "print(numbers)"
   ]
  },
  {
   "cell_type": "markdown",
   "id": "35cbdbef",
   "metadata": {},
   "source": [
    "## Dictionary"
   ]
  },
  {
   "cell_type": "code",
   "execution_count": null,
   "id": "259067fe",
   "metadata": {},
   "outputs": [],
   "source": [
    "# Dictionaries map keys to values\n",
    "words_to_numbers = {'one': 1, 'two': 2, 'three': 3}\n",
    "\n",
    "# Accessing the value by its key\n",
    "print(words_to_numbers['one'])"
   ]
  },
  {
   "cell_type": "code",
   "execution_count": null,
   "id": "1449b871",
   "metadata": {},
   "outputs": [],
   "source": [
    "# If the key is not in the dictionary, an error occurs\n",
    "print(words_to_numbers['five'])"
   ]
  },
  {
   "cell_type": "code",
   "execution_count": null,
   "id": "24a2c5f6",
   "metadata": {},
   "outputs": [],
   "source": [
    "# To check if the key is in the dictionary, use in\n",
    "if 'five' in words_to_numbers:\n",
    "    print(words_to_numbers['five'])\n",
    "else:\n",
    "    print('not in the dictionary')"
   ]
  },
  {
   "cell_type": "code",
   "execution_count": null,
   "id": "38d692d7",
   "metadata": {},
   "outputs": [],
   "source": [
    "# The get() method returns None if the key is not in the dictionary\n",
    "val = words_to_numbers.get('five')\n",
    "print(val)"
   ]
  },
  {
   "cell_type": "code",
   "execution_count": null,
   "id": "9dbd363b",
   "metadata": {},
   "outputs": [],
   "source": [
    "# Use get(key, default_value) to return the default value if the key isn't present\n",
    "val = words_to_numbers.get('five', -1)\n",
    "print(val)"
   ]
  },
  {
   "cell_type": "code",
   "execution_count": null,
   "id": "9061b9dd",
   "metadata": {},
   "outputs": [],
   "source": [
    "# Iterating over keys of the dictionary\n",
    "for k in words_to_numbers.keys():\n",
    "    v = words_to_numbers[k]\n",
    "    print(f\"{k}: {v}\")"
   ]
  },
  {
   "cell_type": "code",
   "execution_count": null,
   "id": "1f53afec",
   "metadata": {},
   "outputs": [],
   "source": [
    "# Iterating over key-value pairs\n",
    "for k, v in words_to_numbers.items():\n",
    "    print(f\"{k}: {v}\")"
   ]
  },
  {
   "cell_type": "markdown",
   "id": "b90478ef",
   "metadata": {},
   "source": [
    "## File Operations"
   ]
  },
  {
   "cell_type": "code",
   "execution_count": null,
   "id": "2659474b",
   "metadata": {},
   "outputs": [],
   "source": [
    "# Read and store the contents of a file as a string:\n",
    "with open('atext.txt', 'r') as f:\n",
    "    astring = f.read() # including newline character\n",
    "    print(astring)\n",
    "\n",
    "# Read one line of a file and store it as a string:\n",
    "with open('atext.txt', 'r') as f:\n",
    "    astring2 = f.readline()  # including newline character\n",
    "    print(astring2)\n",
    "\n",
    "# Read and store the contents of a file as a list of lines:\n",
    "with open('atext.txt', 'r') as f:\n",
    "    alist = f.readlines() # including newline character\n",
    "    print(alist)"
   ]
  },
  {
   "cell_type": "code",
   "execution_count": null,
   "id": "834b0599",
   "metadata": {},
   "outputs": [],
   "source": [
    "# Write a string to a file:\n",
    "with open('btext.txt', 'w') as f:\n",
    "    f.write('This is line 1.') # newline character is not appended\n",
    "    f.write('This is line 2.') # newline character is not appended\n",
    "\n",
    "# Write a list to a file:\n",
    "blist = ['This is line 1.', 'This is line 2.']\n",
    "with open('ctext.txt', 'w') as f:\n",
    "    f.writelines(blist)  # newline character is not appended"
   ]
  },
  {
   "cell_type": "markdown",
   "id": "fac2e55c",
   "metadata": {},
   "source": [
    "## Exception Handling"
   ]
  },
  {
   "cell_type": "code",
   "execution_count": null,
   "id": "15d35681",
   "metadata": {},
   "outputs": [],
   "source": [
    "# Without exception handling\n",
    "num = int(input('Enter a number: '))\n",
    "print(f'You have entered {num}')\n",
    "print('Bye!')"
   ]
  },
  {
   "cell_type": "code",
   "execution_count": null,
   "id": "8a5d58db",
   "metadata": {},
   "outputs": [],
   "source": [
    "# With exception handling\n",
    "try:\n",
    "    num = int(input('Enter a number: '))\n",
    "except:\n",
    "    print('Not a number!')\n",
    "else:\n",
    "    print(f'You have entered {num}')\n",
    "finally:\n",
    "    print('Bye!')"
   ]
  },
  {
   "cell_type": "markdown",
   "id": "39873abf",
   "metadata": {},
   "source": [
    "## Function"
   ]
  },
  {
   "cell_type": "code",
   "execution_count": null,
   "id": "b2176b00",
   "metadata": {},
   "outputs": [],
   "source": [
    "# This is how the function is defined\n",
    "def print_numbers(max):\n",
    "    for i in range(max + 1):\n",
    "        print(i)"
   ]
  },
  {
   "cell_type": "code",
   "execution_count": null,
   "id": "b975a138",
   "metadata": {},
   "outputs": [],
   "source": [
    "# Invoke the function\n",
    "print_numbers(10)"
   ]
  },
  {
   "cell_type": "code",
   "execution_count": null,
   "id": "b60868ca",
   "metadata": {},
   "outputs": [],
   "source": [
    "# use named arguments\n",
    "print_numbers(max=10)"
   ]
  }
 ],
 "metadata": {
  "kernelspec": {
   "display_name": "Python 3",
   "language": "python",
   "name": "python3"
  },
  "language_info": {
   "codemirror_mode": {
    "name": "ipython",
    "version": 3
   },
   "file_extension": ".py",
   "mimetype": "text/x-python",
   "name": "python",
   "nbconvert_exporter": "python",
   "pygments_lexer": "ipython3",
   "version": "3.9.4"
  }
 },
 "nbformat": 4,
 "nbformat_minor": 5
}
